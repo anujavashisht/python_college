{
  "nbformat": 4,
  "nbformat_minor": 0,
  "metadata": {
    "colab": {
      "name": "covid.ipynb",
      "provenance": [],
      "authorship_tag": "ABX9TyM3KkoIlk/IWHE5iHg91hC4",
      "include_colab_link": true
    },
    "kernelspec": {
      "name": "python3",
      "display_name": "Python 3"
    }
  },
  "cells": [
    {
      "cell_type": "markdown",
      "metadata": {
        "id": "view-in-github",
        "colab_type": "text"
      },
      "source": [
        "<a href=\"https://colab.research.google.com/github/deekshadaga/python_college/blob/master/covid1.ipynb\" target=\"_parent\"><img src=\"https://colab.research.google.com/assets/colab-badge.svg\" alt=\"Open In Colab\"/></a>"
      ]
    },
    {
      "cell_type": "code",
      "metadata": {
        "id": "RQfC40UN-M-q",
        "colab_type": "code",
        "colab": {}
      },
      "source": [
        "#importing modules\n",
        "from bs4 import BeautifulSoup #for scraping\n",
        "import requests #replacement of urllib\n",
        "import matplotlib.pyplot as plt"
      ],
      "execution_count": 0,
      "outputs": []
    },
    {
      "cell_type": "code",
      "metadata": {
        "id": "V7JStBSw-aXY",
        "colab_type": "code",
        "colab": {}
      },
      "source": [
        "#now taking corona live dataset\n",
        "url='https://www.worldometers.info/coronavirus/'\n",
        "#now connecting with https protocol\n",
        "htmlpage=requests.get(url)"
      ],
      "execution_count": 0,
      "outputs": []
    },
    {
      "cell_type": "code",
      "metadata": {
        "id": "ilVlud3N-bGg",
        "colab_type": "code",
        "colab": {}
      },
      "source": [
        "#collecting all the data\n",
        "purehtmlpage=htmlpage.content\n",
        "#souping\n",
        "soup=BeautifulSoup(purehtmlpage,'html5lib')\n",
        "#finding the table\n",
        "tb=soup.find_all('table',class_='table table-bordered table-hover main_table_countries')#for live update's table\n",
        "#finding all table rows\n",
        "x=[]\n",
        "for trr in tb[0].find_all('tr'):\n",
        "    for rows in trr.find_all('th'):\n",
        "        x.append(rows.text)"
      ],
      "execution_count": 0,
      "outputs": []
    },
    {
      "cell_type": "code",
      "metadata": {
        "id": "4p3zKr-aMEWw",
        "colab_type": "code",
        "colab": {}
      },
      "source": [
        "#storing table data\n",
        "data=[]\n",
        "for trr1 in tb[0].find_all('tr'):\n",
        "    for rows in trr1.find_all('td'):\n",
        "        data.append(rows.text)"
      ],
      "execution_count": 0,
      "outputs": []
    },
    {
      "cell_type": "code",
      "metadata": {
        "id": "sTdqjKqQc8Iw",
        "colab_type": "code",
        "colab": {}
      },
      "source": [
        "#listing data in their respective lists\n",
        "Country=[]\n",
        "TotalCases=[]\n",
        "NewCases=[]\n",
        "TotalDeaths=[]\n",
        "NewDeaths=[]\n",
        "TotalRecovered=[]\n",
        "ActiveCases=[]\n",
        "Serious=[]\n",
        "TotCases1Mpop=[]\n",
        "Deaths1Mpop=[]\n",
        "TotalTests=[]\n",
        "Tests1Mpop=[]\n",
        "Continent=[]\n",
        "\n",
        "for i in range(0,len(data),13):\n",
        "    d=data[i].replace('\\n','')\n",
        "    Country.append(d)\n",
        "\n",
        "for i in range(1,len(data),13):\n",
        "    d=data[i].replace(',','')\n",
        "    TotalCases.append(int(d))\n",
        "\n",
        "for i in range(2,len(data),13):\n",
        "    d=data[i].replace(' ','')\n",
        "    if(d!=''):\n",
        "        d1=d.replace(',','')\n",
        "        NewCases.append(int(d1))\n",
        "    else:\n",
        "        NewCases.append(0)\n",
        "\n",
        "for i in range(3,len(data),13):\n",
        "    d=data[i].replace(' ','')\n",
        "    if(d!=''):\n",
        "        d1=d.replace(',','')\n",
        "        TotalDeaths.append(int(d1))\n",
        "    else:\n",
        "        TotalDeaths.append(0)\n",
        "\n",
        "for i in range(4,len(data),13):\n",
        "    d=data[i].replace(' ','')\n",
        "    if(d!=''):\n",
        "        d1=d.replace(',','')\n",
        "        NewDeaths.append(int(d1))\n",
        "    else:\n",
        "        NewDeaths.append(0)\n",
        "\n",
        "for i in range(5,len(data),13):\n",
        "    d=data[i].replace(' ','')\n",
        "    if(d!=''):\n",
        "        d1=d.replace(',','')\n",
        "        TotalRecovered.append(int(d1))\n",
        "    else:\n",
        "        TotalRecovered.append(0)\n",
        "\n",
        "for i in range(6,len(data),13):\n",
        "    d=data[i].replace(' ','')\n",
        "    if(d!=''):\n",
        "        d1=d.replace(',','')\n",
        "        ActiveCases.append(int(d1))\n",
        "    else:\n",
        "        ActiveCases.append(0)\n",
        "\n",
        "for i in range(7,len(data),13):\n",
        "    d=data[i].replace(' ','')\n",
        "    if(d!=''):\n",
        "        d1=d.replace(',','')\n",
        "        Serious.append(int(d1))\n",
        "    else:\n",
        "        Serious.append(0)\n",
        "for i in range(8,len(data),13):\n",
        "    d=data[i].replace(' ','')\n",
        "    if(d!=''):\n",
        "        d1=d.replace(',','')\n",
        "        TotCases1Mpop.append(int(float(d1)))\n",
        "    else:\n",
        "        TotCases1Mpop.append(0)\n",
        "for i in range(9,len(data),13):\n",
        "    d=data[i].replace(' ','')\n",
        "    if(d!=''):\n",
        "        d1=d.replace(',','')\n",
        "        Deaths1Mpop.append(int(float(d1)))\n",
        "    else:\n",
        "        Deaths1Mpop.append(0)\n",
        "for i in range(10,len(data),13):\n",
        "    d=data[i].replace(' ','')\n",
        "    if(d!=''):\n",
        "        d1=d.replace(',','')\n",
        "        TotalTests.append(int(d1))\n",
        "    else:\n",
        "        TotalTests.append(0)\n",
        "for i in range(11,len(data),13):\n",
        "    d=data[i].replace(' ','')\n",
        "    if(d!=''):\n",
        "        d1=d.replace(',','')\n",
        "        Tests1Mpop.append(int(float(d1)))\n",
        "    else:\n",
        "        Tests1Mpop.append(0)\n",
        "for i in range(12,len(data),13):\n",
        "    Continent.append(data[i])"
      ],
      "execution_count": 0,
      "outputs": []
    },
    {
      "cell_type": "code",
      "metadata": {
        "id": "m1t5WwcvGT5_",
        "colab_type": "code",
        "outputId": "d1136de8-837d-4f39-f3a8-85b6c05983a2",
        "colab": {
          "base_uri": "https://localhost:8080/",
          "height": 446
        }
      },
      "source": [
        "#taking user input for country name\n",
        "s=input('Enter country name for which you want to see the data --> ')\n",
        "\n",
        "for i in range(0,len(Country)):\n",
        "    if(Country[i].lower()==s.lower()):\n",
        "        break;\n",
        "if(i==len(Country)-1):\n",
        "    print('Invalid Country name!')\n",
        "else:\n",
        "    #taking that country's data\n",
        "    y=[]\n",
        "    y.append(TotalCases[i])\n",
        "    y.append(NewCases[i])\n",
        "    y.append(TotalDeaths[i])\n",
        "    y.append(NewDeaths[i])\n",
        "    y.append(TotalRecovered[i])\n",
        "    y.append(ActiveCases[i])\n",
        "    y.append(Serious[i])\n",
        "    y.append(TotCases1Mpop[i])\n",
        "    y.append(Deaths1Mpop[i])\n",
        "    y.append(TotalTests[i])\n",
        "    y.append(Tests1Mpop[i])\n",
        "    #setting size of graph\n",
        "    plt.figure(figsize=(5,5))\n",
        "    #setting labels\n",
        "    plt.xlabel(s)\n",
        "    plt.ylabel('data')\n",
        "    #bar graph\n",
        "    plt.bar(x[1:len(x)-1],y,label='total information of {}'.format(s))\n",
        "    '''\n",
        "    #to display values on top of each bar\n",
        "    for index, value in enumerate(y):\n",
        "        plt.text(value, index, value)\n",
        "    '''\n",
        "    #rotate x-axis labels by 45 degrees.\n",
        "    plt.xticks(rotation=90)\n",
        "    #to set y-axis range\n",
        "    plt.ylim(0, (max(y)+(10**(len(str(max(y)))-2))))\n",
        "    #to enable the labels\n",
        "    plt.legend()\n",
        "    #to display the graph\n",
        "    plt.show()\n",
        "    #to print that country's continent\n",
        "    print('Continent --> ',Continent[i])"
      ],
      "execution_count": 68,
      "outputs": [
        {
          "output_type": "stream",
          "text": [
            "Enter country name for which you want to see the data --> india\n"
          ],
          "name": "stdout"
        },
        {
          "output_type": "display_data",
          "data": {
            "image/png": "[encoded data removed]",
            "text/plain": [
              "<Figure size 360x360 with 1 Axes>"
            ]
          },
          "metadata": {
            "tags": [],
            "needs_background": "light"
          }
        },
        {
          "output_type": "stream",
          "text": [
            "Continent -->  Asia\n"
          ],
          "name": "stdout"
        }
      ]
    }
  ]
}